{
 "cells": [
  {
   "cell_type": "code",
   "execution_count": 2,
   "metadata": {},
   "outputs": [],
   "source": [
    "import pandas as pd\n",
    "import numpy as np\n",
    "from bs4 import BeautifulSoup\n",
    "import requests\n",
    "import matplotlib.pyplot as plt\n",
    "from API_Keys import Alpha_API_Key\n",
    "from API_Keys import Nasdaq_Key\n",
    "from pprint import pprint\n",
    "import json"
   ]
  },
  {
   "cell_type": "code",
   "execution_count": 3,
   "metadata": {},
   "outputs": [],
   "source": [
    "#API Call\n",
    "\n",
    "Treasury_url= f'https://data.nasdaq.com/api/v3/datasets/USTREASURY/YIELD.json?api_key={Nasdaq_Key}'"
   ]
  },
  {
   "cell_type": "code",
   "execution_count": 4,
   "metadata": {},
   "outputs": [],
   "source": [
    "Nresponse= requests.get(Treasury_url).json()"
   ]
  },
  {
   "cell_type": "code",
   "execution_count": null,
   "metadata": {},
   "outputs": [],
   "source": [
    "pprint(Nresponse)"
   ]
  },
  {
   "cell_type": "code",
   "execution_count": null,
   "metadata": {},
   "outputs": [],
   "source": [
    "type(Nresponse['dataset'])"
   ]
  },
  {
   "cell_type": "code",
   "execution_count": 5,
   "metadata": {},
   "outputs": [],
   "source": [
    "Treasury_DF=pd.DataFrame.from_dict(Nresponse['dataset']['data'])"
   ]
  },
  {
   "cell_type": "code",
   "execution_count": null,
   "metadata": {},
   "outputs": [],
   "source": [
    "Treasury_DF.head(10)"
   ]
  },
  {
   "cell_type": "code",
   "execution_count": null,
   "metadata": {},
   "outputs": [],
   "source": [
    "type(Treasury_DF)"
   ]
  },
  {
   "cell_type": "code",
   "execution_count": 6,
   "metadata": {},
   "outputs": [],
   "source": [
    "Treasury_DF.rename(columns={0: \"Date\", 1:'1 mo', 2:'2 mo', 3:'3 mo', 4:'6 mo', 5:'1 yr', 6:'2 yr', 7:'3 yr', 8:'5 yr', 9:'7 yr', 10:'10 yr', 11:'20 yr', 12:'30 yr'}, inplace=True)"
   ]
  },
  {
   "cell_type": "code",
   "execution_count": 7,
   "metadata": {},
   "outputs": [
    {
     "data": {
      "text/html": [
       "<div>\n",
       "<style scoped>\n",
       "    .dataframe tbody tr th:only-of-type {\n",
       "        vertical-align: middle;\n",
       "    }\n",
       "\n",
       "    .dataframe tbody tr th {\n",
       "        vertical-align: top;\n",
       "    }\n",
       "\n",
       "    .dataframe thead th {\n",
       "        text-align: right;\n",
       "    }\n",
       "</style>\n",
       "<table border=\"1\" class=\"dataframe\">\n",
       "  <thead>\n",
       "    <tr style=\"text-align: right;\">\n",
       "      <th></th>\n",
       "      <th>Date</th>\n",
       "      <th>1 mo</th>\n",
       "      <th>2 mo</th>\n",
       "      <th>3 mo</th>\n",
       "      <th>6 mo</th>\n",
       "      <th>1 yr</th>\n",
       "      <th>2 yr</th>\n",
       "      <th>3 yr</th>\n",
       "      <th>5 yr</th>\n",
       "      <th>7 yr</th>\n",
       "      <th>10 yr</th>\n",
       "      <th>20 yr</th>\n",
       "      <th>30 yr</th>\n",
       "    </tr>\n",
       "  </thead>\n",
       "  <tbody>\n",
       "    <tr>\n",
       "      <th>0</th>\n",
       "      <td>2022-01-25</td>\n",
       "      <td>0.05</td>\n",
       "      <td>0.09</td>\n",
       "      <td>0.19</td>\n",
       "      <td>0.39</td>\n",
       "      <td>0.65</td>\n",
       "      <td>1.02</td>\n",
       "      <td>1.28</td>\n",
       "      <td>1.56</td>\n",
       "      <td>1.73</td>\n",
       "      <td>1.78</td>\n",
       "      <td>2.18</td>\n",
       "      <td>2.12</td>\n",
       "    </tr>\n",
       "    <tr>\n",
       "      <th>1</th>\n",
       "      <td>2022-01-24</td>\n",
       "      <td>0.05</td>\n",
       "      <td>0.09</td>\n",
       "      <td>0.19</td>\n",
       "      <td>0.39</td>\n",
       "      <td>0.58</td>\n",
       "      <td>0.99</td>\n",
       "      <td>1.25</td>\n",
       "      <td>1.53</td>\n",
       "      <td>1.69</td>\n",
       "      <td>1.75</td>\n",
       "      <td>2.15</td>\n",
       "      <td>2.10</td>\n",
       "    </tr>\n",
       "    <tr>\n",
       "      <th>2</th>\n",
       "      <td>2022-01-21</td>\n",
       "      <td>0.05</td>\n",
       "      <td>0.08</td>\n",
       "      <td>0.17</td>\n",
       "      <td>0.35</td>\n",
       "      <td>0.58</td>\n",
       "      <td>1.01</td>\n",
       "      <td>1.28</td>\n",
       "      <td>1.54</td>\n",
       "      <td>1.70</td>\n",
       "      <td>1.75</td>\n",
       "      <td>2.13</td>\n",
       "      <td>2.07</td>\n",
       "    </tr>\n",
       "    <tr>\n",
       "      <th>3</th>\n",
       "      <td>2022-01-20</td>\n",
       "      <td>0.05</td>\n",
       "      <td>0.09</td>\n",
       "      <td>0.17</td>\n",
       "      <td>0.36</td>\n",
       "      <td>0.60</td>\n",
       "      <td>1.08</td>\n",
       "      <td>1.34</td>\n",
       "      <td>1.62</td>\n",
       "      <td>1.77</td>\n",
       "      <td>1.83</td>\n",
       "      <td>2.19</td>\n",
       "      <td>2.14</td>\n",
       "    </tr>\n",
       "    <tr>\n",
       "      <th>4</th>\n",
       "      <td>2022-01-19</td>\n",
       "      <td>0.05</td>\n",
       "      <td>0.06</td>\n",
       "      <td>0.17</td>\n",
       "      <td>0.36</td>\n",
       "      <td>0.57</td>\n",
       "      <td>1.04</td>\n",
       "      <td>1.33</td>\n",
       "      <td>1.62</td>\n",
       "      <td>1.78</td>\n",
       "      <td>1.83</td>\n",
       "      <td>2.20</td>\n",
       "      <td>2.14</td>\n",
       "    </tr>\n",
       "  </tbody>\n",
       "</table>\n",
       "</div>"
      ],
      "text/plain": [
       "         Date  1 mo  2 mo  3 mo  6 mo  1 yr  2 yr  3 yr  5 yr  7 yr  10 yr  \\\n",
       "0  2022-01-25  0.05  0.09  0.19  0.39  0.65  1.02  1.28  1.56  1.73   1.78   \n",
       "1  2022-01-24  0.05  0.09  0.19  0.39  0.58  0.99  1.25  1.53  1.69   1.75   \n",
       "2  2022-01-21  0.05  0.08  0.17  0.35  0.58  1.01  1.28  1.54  1.70   1.75   \n",
       "3  2022-01-20  0.05  0.09  0.17  0.36  0.60  1.08  1.34  1.62  1.77   1.83   \n",
       "4  2022-01-19  0.05  0.06  0.17  0.36  0.57  1.04  1.33  1.62  1.78   1.83   \n",
       "\n",
       "   20 yr  30 yr  \n",
       "0   2.18   2.12  \n",
       "1   2.15   2.10  \n",
       "2   2.13   2.07  \n",
       "3   2.19   2.14  \n",
       "4   2.20   2.14  "
      ]
     },
     "execution_count": 7,
     "metadata": {},
     "output_type": "execute_result"
    }
   ],
   "source": [
    "Treasury_DF.head()"
   ]
  },
  {
   "cell_type": "code",
   "execution_count": 8,
   "metadata": {},
   "outputs": [],
   "source": [
    "# add columns to dataframe calculating delta between durations\n",
    "\n",
    "Treasury_DF['2mo-1mo']=(Treasury_DF['2 mo'].astype(float)) - (Treasury_DF['1 mo'].astype(float))\n",
    "                          \n",
    "Treasury_DF['3mo-2mo']=(Treasury_DF['3 mo'].astype(float)) - (Treasury_DF['2 mo'].astype(float))\n",
    "\n",
    "Treasury_DF['3mo-1mo']=(Treasury_DF['3 mo'].astype(float)) - (Treasury_DF['1 mo'].astype(float))\n",
    "\n",
    "Treasury_DF['6mo-3mo']=(Treasury_DF['6 mo'].astype(float)) - (Treasury_DF['3 mo'].astype(float))\n",
    "                          \n",
    "Treasury_DF['6mo-2mo']=(Treasury_DF['6 mo'].astype(float)) - (Treasury_DF['2 mo'].astype(float))\n",
    "\n",
    "Treasury_DF['6mo-1mo']=(Treasury_DF['6 mo'].astype(float)) - (Treasury_DF['1 mo'].astype(float))\n",
    "                          \n",
    "Treasury_DF['1yr-6mo']=(Treasury_DF['1 yr'].astype(float)) - (Treasury_DF['6 mo'].astype(float))\n",
    "                         \n",
    "Treasury_DF['1yr-3mo']=(Treasury_DF['1 yr'].astype(float)) - (Treasury_DF['3 mo'].astype(float))\n",
    "                          \n",
    "Treasury_DF['1yr-2mo']=(Treasury_DF['1 yr'].astype(float)) - (Treasury_DF['2 mo'].astype(float))\n",
    "                          \n",
    "Treasury_DF['1yr-1mo']=(Treasury_DF['1 yr'].astype(float)) - (Treasury_DF['1 mo'].astype(float))\n",
    "                          \n",
    "Treasury_DF['2yr-1yr']=(Treasury_DF['2 yr'].astype(float)) - (Treasury_DF['1 yr'].astype(float))\n",
    "\n",
    "Treasury_DF['2yr-6mo']=(Treasury_DF['2 yr'].astype(float)) - (Treasury_DF['6 mo'].astype(float))\n",
    "                          \n",
    "Treasury_DF['2yr-1mo']=(Treasury_DF['2 yr'].astype(float)) - (Treasury_DF['1 mo'].astype(float))\n",
    "\n",
    "Treasury_DF['3yr-1yr']=(Treasury_DF['3 yr'].astype(float)) - (Treasury_DF['1 yr'].astype(float))\n",
    "\n",
    "Treasury_DF['5-1year']=(Treasury_DF['5 yr'].astype(float)) - (Treasury_DF['1 yr'].astype(float))\n",
    "\n",
    "Treasury_DF[\"10yr-3mo\"]=(Treasury_DF['10 yr'].astype(float)) - (Treasury_DF['3 mo'].astype(float))\n",
    "\n",
    "Treasury_DF[\"10-1year\"]=(Treasury_DF['10 yr'].astype(float)) - (Treasury_DF['1 yr'].astype(float))\n",
    "\n",
    "Treasury_DF[\"10-2year\"]=(Treasury_DF['10 yr'].astype(float)) - (Treasury_DF['2 yr'].astype(float))\n",
    "\n",
    "Treasury_DF[\"10-5year\"]=(Treasury_DF['10 yr'].astype(float)) - (Treasury_DF['5 yr'].astype(float))\n",
    "\n",
    "Treasury_DF[\"20-1year\"]=(Treasury_DF['10 yr'].astype(float)) - (Treasury_DF['1 yr'].astype(float))\n",
    "\n",
    "Treasury_DF[\"20-10year\"]=(Treasury_DF['20 yr'].astype(float)) - (Treasury_DF['10 yr'].astype(float))\n",
    "\n",
    "Treasury_DF[\"30-20year\"]=(Treasury_DF['30 yr'].astype(float)) - (Treasury_DF['20 yr'].astype(float))\n"
   ]
  },
  {
   "cell_type": "code",
   "execution_count": null,
   "metadata": {},
   "outputs": [],
   "source": [
    "type(Treasury_DF['Date'][2])"
   ]
  },
  {
   "cell_type": "code",
   "execution_count": 9,
   "metadata": {
    "scrolled": true
   },
   "outputs": [
    {
     "data": {
      "text/html": [
       "<div>\n",
       "<style scoped>\n",
       "    .dataframe tbody tr th:only-of-type {\n",
       "        vertical-align: middle;\n",
       "    }\n",
       "\n",
       "    .dataframe tbody tr th {\n",
       "        vertical-align: top;\n",
       "    }\n",
       "\n",
       "    .dataframe thead th {\n",
       "        text-align: right;\n",
       "    }\n",
       "</style>\n",
       "<table border=\"1\" class=\"dataframe\">\n",
       "  <thead>\n",
       "    <tr style=\"text-align: right;\">\n",
       "      <th></th>\n",
       "      <th>Date</th>\n",
       "      <th>1 mo</th>\n",
       "      <th>2 mo</th>\n",
       "      <th>3 mo</th>\n",
       "      <th>6 mo</th>\n",
       "      <th>1 yr</th>\n",
       "      <th>2 yr</th>\n",
       "      <th>3 yr</th>\n",
       "      <th>5 yr</th>\n",
       "      <th>7 yr</th>\n",
       "      <th>...</th>\n",
       "      <th>2yr-1mo</th>\n",
       "      <th>3yr-1yr</th>\n",
       "      <th>5-1year</th>\n",
       "      <th>10yr-3mo</th>\n",
       "      <th>10-1year</th>\n",
       "      <th>10-2year</th>\n",
       "      <th>10-5year</th>\n",
       "      <th>20-1year</th>\n",
       "      <th>20-10year</th>\n",
       "      <th>30-20year</th>\n",
       "    </tr>\n",
       "  </thead>\n",
       "  <tbody>\n",
       "    <tr>\n",
       "      <th>0</th>\n",
       "      <td>2022-01-25</td>\n",
       "      <td>0.05</td>\n",
       "      <td>0.09</td>\n",
       "      <td>0.19</td>\n",
       "      <td>0.39</td>\n",
       "      <td>0.65</td>\n",
       "      <td>1.02</td>\n",
       "      <td>1.28</td>\n",
       "      <td>1.56</td>\n",
       "      <td>1.73</td>\n",
       "      <td>...</td>\n",
       "      <td>0.97</td>\n",
       "      <td>0.63</td>\n",
       "      <td>0.91</td>\n",
       "      <td>1.59</td>\n",
       "      <td>1.13</td>\n",
       "      <td>0.76</td>\n",
       "      <td>0.22</td>\n",
       "      <td>1.13</td>\n",
       "      <td>0.40</td>\n",
       "      <td>-0.06</td>\n",
       "    </tr>\n",
       "    <tr>\n",
       "      <th>1</th>\n",
       "      <td>2022-01-24</td>\n",
       "      <td>0.05</td>\n",
       "      <td>0.09</td>\n",
       "      <td>0.19</td>\n",
       "      <td>0.39</td>\n",
       "      <td>0.58</td>\n",
       "      <td>0.99</td>\n",
       "      <td>1.25</td>\n",
       "      <td>1.53</td>\n",
       "      <td>1.69</td>\n",
       "      <td>...</td>\n",
       "      <td>0.94</td>\n",
       "      <td>0.67</td>\n",
       "      <td>0.95</td>\n",
       "      <td>1.56</td>\n",
       "      <td>1.17</td>\n",
       "      <td>0.76</td>\n",
       "      <td>0.22</td>\n",
       "      <td>1.17</td>\n",
       "      <td>0.40</td>\n",
       "      <td>-0.05</td>\n",
       "    </tr>\n",
       "    <tr>\n",
       "      <th>2</th>\n",
       "      <td>2022-01-21</td>\n",
       "      <td>0.05</td>\n",
       "      <td>0.08</td>\n",
       "      <td>0.17</td>\n",
       "      <td>0.35</td>\n",
       "      <td>0.58</td>\n",
       "      <td>1.01</td>\n",
       "      <td>1.28</td>\n",
       "      <td>1.54</td>\n",
       "      <td>1.70</td>\n",
       "      <td>...</td>\n",
       "      <td>0.96</td>\n",
       "      <td>0.70</td>\n",
       "      <td>0.96</td>\n",
       "      <td>1.58</td>\n",
       "      <td>1.17</td>\n",
       "      <td>0.74</td>\n",
       "      <td>0.21</td>\n",
       "      <td>1.17</td>\n",
       "      <td>0.38</td>\n",
       "      <td>-0.06</td>\n",
       "    </tr>\n",
       "    <tr>\n",
       "      <th>3</th>\n",
       "      <td>2022-01-20</td>\n",
       "      <td>0.05</td>\n",
       "      <td>0.09</td>\n",
       "      <td>0.17</td>\n",
       "      <td>0.36</td>\n",
       "      <td>0.60</td>\n",
       "      <td>1.08</td>\n",
       "      <td>1.34</td>\n",
       "      <td>1.62</td>\n",
       "      <td>1.77</td>\n",
       "      <td>...</td>\n",
       "      <td>1.03</td>\n",
       "      <td>0.74</td>\n",
       "      <td>1.02</td>\n",
       "      <td>1.66</td>\n",
       "      <td>1.23</td>\n",
       "      <td>0.75</td>\n",
       "      <td>0.21</td>\n",
       "      <td>1.23</td>\n",
       "      <td>0.36</td>\n",
       "      <td>-0.05</td>\n",
       "    </tr>\n",
       "    <tr>\n",
       "      <th>4</th>\n",
       "      <td>2022-01-19</td>\n",
       "      <td>0.05</td>\n",
       "      <td>0.06</td>\n",
       "      <td>0.17</td>\n",
       "      <td>0.36</td>\n",
       "      <td>0.57</td>\n",
       "      <td>1.04</td>\n",
       "      <td>1.33</td>\n",
       "      <td>1.62</td>\n",
       "      <td>1.78</td>\n",
       "      <td>...</td>\n",
       "      <td>0.99</td>\n",
       "      <td>0.76</td>\n",
       "      <td>1.05</td>\n",
       "      <td>1.66</td>\n",
       "      <td>1.26</td>\n",
       "      <td>0.79</td>\n",
       "      <td>0.21</td>\n",
       "      <td>1.26</td>\n",
       "      <td>0.37</td>\n",
       "      <td>-0.06</td>\n",
       "    </tr>\n",
       "  </tbody>\n",
       "</table>\n",
       "<p>5 rows × 35 columns</p>\n",
       "</div>"
      ],
      "text/plain": [
       "        Date  1 mo  2 mo  3 mo  6 mo  1 yr  2 yr  3 yr  5 yr  7 yr  ...  \\\n",
       "0 2022-01-25  0.05  0.09  0.19  0.39  0.65  1.02  1.28  1.56  1.73  ...   \n",
       "1 2022-01-24  0.05  0.09  0.19  0.39  0.58  0.99  1.25  1.53  1.69  ...   \n",
       "2 2022-01-21  0.05  0.08  0.17  0.35  0.58  1.01  1.28  1.54  1.70  ...   \n",
       "3 2022-01-20  0.05  0.09  0.17  0.36  0.60  1.08  1.34  1.62  1.77  ...   \n",
       "4 2022-01-19  0.05  0.06  0.17  0.36  0.57  1.04  1.33  1.62  1.78  ...   \n",
       "\n",
       "   2yr-1mo  3yr-1yr  5-1year  10yr-3mo  10-1year  10-2year  10-5year  \\\n",
       "0     0.97     0.63     0.91      1.59      1.13      0.76      0.22   \n",
       "1     0.94     0.67     0.95      1.56      1.17      0.76      0.22   \n",
       "2     0.96     0.70     0.96      1.58      1.17      0.74      0.21   \n",
       "3     1.03     0.74     1.02      1.66      1.23      0.75      0.21   \n",
       "4     0.99     0.76     1.05      1.66      1.26      0.79      0.21   \n",
       "\n",
       "   20-1year  20-10year  30-20year  \n",
       "0      1.13       0.40      -0.06  \n",
       "1      1.17       0.40      -0.05  \n",
       "2      1.17       0.38      -0.06  \n",
       "3      1.23       0.36      -0.05  \n",
       "4      1.26       0.37      -0.06  \n",
       "\n",
       "[5 rows x 35 columns]"
      ]
     },
     "execution_count": 9,
     "metadata": {},
     "output_type": "execute_result"
    }
   ],
   "source": [
    "# Change date from string to timestamp\n",
    "\n",
    "Treasury_DF['Date']=pd.to_datetime(Treasury_DF['Date'])\n",
    "\n",
    "Treasury_DF.head()"
   ]
  },
  {
   "cell_type": "code",
   "execution_count": null,
   "metadata": {},
   "outputs": [],
   "source": [
    "Treasury_DF.columns"
   ]
  },
  {
   "cell_type": "code",
   "execution_count": null,
   "metadata": {},
   "outputs": [],
   "source": [
    "type(Treasury_DF['Date'][1])"
   ]
  },
  {
   "cell_type": "code",
   "execution_count": 11,
   "metadata": {},
   "outputs": [
    {
     "data": {
      "image/png": "[encoded data removed]",
      "text/plain": [
       "<Figure size 1440x360 with 1 Axes>"
      ]
     },
     "metadata": {
      "needs_background": "light"
     },
     "output_type": "display_data"
    }
   ],
   "source": [
    "plt.figure(figsize=(20,5))\n",
    "plt.plot(Treasury_DF['Date'], Treasury_DF['10-1year'], label='10-1')\n",
    "plt.plot(Treasury_DF['Date'], Treasury_DF['10-5year'], label='10-5')\n",
    "plt.plot(Treasury_DF['Date'], Treasury_DF['30-20year'], label='30-20')\n",
    "plt.plot(Treasury_DF['Date'], Treasury_DF['10yr-3mo'], label='10y-3m')\n",
    "plt.axhline(y=0, color='r')\n",
    "\n",
    "# x_axis= np.arange(len(Yields_DF['Date']))\n",
    "# tick_locations= [value for value in x_axis]\n",
    "# plt.xticks(tick_locations, Yields_DF['Date'], rotation=90)\n",
    "\n",
    "plt.legend()\n",
    "\n",
    "plt.xlabel('Date')\n",
    "plt.ylabel('Delta')\n",
    "plt.show()"
   ]
  },
  {
   "cell_type": "markdown",
   "metadata": {},
   "source": [
    "Get Data for Nasdaq to compare to Treasury yields"
   ]
  },
  {
   "cell_type": "code",
   "execution_count": null,
   "metadata": {},
   "outputs": [],
   "source": [
    "url= f'https://www.alphavantage.co/query?function=TIME_SERIES_DAILY&symbol=QQQ&outputsize=full&apikey={Alpha_API_Key}'"
   ]
  },
  {
   "cell_type": "code",
   "execution_count": null,
   "metadata": {},
   "outputs": [],
   "source": [
    "response= requests.get(url).json()"
   ]
  },
  {
   "cell_type": "code",
   "execution_count": null,
   "metadata": {},
   "outputs": [],
   "source": [
    "pprint(response)"
   ]
  },
  {
   "cell_type": "code",
   "execution_count": null,
   "metadata": {},
   "outputs": [],
   "source": [
    "type(response)"
   ]
  },
  {
   "cell_type": "code",
   "execution_count": null,
   "metadata": {},
   "outputs": [],
   "source": [
    "# Turn dictionary into DataFrame\n",
    "\n",
    "Nasdaq= pd.DataFrame.from_dict(response['Time Series (Daily)'], orient='index')"
   ]
  },
  {
   "cell_type": "code",
   "execution_count": null,
   "metadata": {
    "scrolled": true
   },
   "outputs": [],
   "source": [
    "Nasdaq"
   ]
  },
  {
   "cell_type": "code",
   "execution_count": null,
   "metadata": {},
   "outputs": [],
   "source": [
    "# Reset index to make date a usable column and clean up column names\n",
    "\n",
    "Nasdaq=Nasdaq.reset_index()\n",
    "Nasdaq.rename(columns={'index': 'Date', '1. open':'Nas_Open', '2. high':'Nas_High', '3. low':'Nas_Low', '4. close':'Nas_Close', '5. volume':'Nas_Volume'}, inplace=True)"
   ]
  },
  {
   "cell_type": "code",
   "execution_count": null,
   "metadata": {},
   "outputs": [],
   "source": [
    "# Create new column for daily change and range\n",
    "\n",
    "Nasdaq['Nas_Change']=Nasdaq['Nas_Close'].astype(float).diff(periods=-1)\n",
    "\n",
    "Nasdaq['Nas_Range']=Nasdaq['Nas_High'].astype(float) - Nasdaq['Nas_Low'].astype(float)"
   ]
  },
  {
   "cell_type": "code",
   "execution_count": null,
   "metadata": {},
   "outputs": [],
   "source": [
    "Nasdaq['Date']=pd.to_datetime(Nasdaq['Date'])\n",
    "type(Nasdaq['Date'][1])"
   ]
  },
  {
   "cell_type": "code",
   "execution_count": null,
   "metadata": {},
   "outputs": [],
   "source": [
    "Nasdaq['Nas_Open']=Nasdaq['Nas_Open'].astype(float)\n",
    "Nasdaq['Nas_Close']=Nasdaq['Nas_Close'].astype(float)\n",
    "Nasdaq['Nas_Volume']=Nasdaq['Nas_Volume'].astype(float)\n",
    "Nasdaq['Nas_High']=Nasdaq['Nas_High'].astype(float)\n",
    "Nasdaq['Nas_Low']=Nasdaq['Nas_Low'].astype(float)"
   ]
  },
  {
   "cell_type": "code",
   "execution_count": null,
   "metadata": {},
   "outputs": [],
   "source": [
    "# # Delete high and low rows.   Keep for volatility measure\n",
    "# Nasdaq.drop(axis=1, columns=['high', 'low'], inplace=True)"
   ]
  },
  {
   "cell_type": "code",
   "execution_count": null,
   "metadata": {
    "scrolled": true
   },
   "outputs": [],
   "source": [
    "Nasdaq.head(5)"
   ]
  },
  {
   "cell_type": "code",
   "execution_count": null,
   "metadata": {},
   "outputs": [],
   "source": [
    "print(Nasdaq.dtypes)"
   ]
  },
  {
   "cell_type": "code",
   "execution_count": null,
   "metadata": {},
   "outputs": [],
   "source": [
    "plt.figure(figsize=(20,10))\n",
    "\n",
    "plt.plot(Nasdaq['Date'],Nasdaq['Nas_Close'])\n",
    "plt.plot(Nasdaq['Date'], Nasdaq['Nas_Change'])\n",
    "\n",
    "# ax.set(\n",
    "#     xlabel='Date',\n",
    "#     ylabel='Change',\n",
    "#     xlim=['2021-06-01', '2021-12-15'])\n",
    "# x_axis= np.arange(len(Yields_DF['Date']))\n",
    "# tick_locations= [value for value in x_axis]\n",
    "# plt.xticks(tick_locations, Yields_DF['Date'], rotation=90)\n",
    "\n",
    "plt.show()"
   ]
  },
  {
   "cell_type": "markdown",
   "metadata": {},
   "source": [
    "Change is not useful for chart, but may be helpful for ML"
   ]
  },
  {
   "cell_type": "code",
   "execution_count": null,
   "metadata": {},
   "outputs": [],
   "source": [
    "# plt.figure(figsize=(20,10))\n",
    "# plt.plot(Data_DF['Date'], Data_DF['10-1year']*300, label='10-1year')\n",
    "# plt.plot(Data_DF['Date'], Data_DF['10-5year']*400, label='10-5year')\n",
    "\n",
    "# plt.plot(Data_DF['Date'], Data_DF['Nas_Close'].astype(float)*5, label='Nas_Close')\n",
    "# plt.legend()\n",
    "# plt.plot(ylim=(-50,435))\n",
    "# plt.axhline(y=0, color='r')\n",
    "\n",
    "# plt.show()"
   ]
  },
  {
   "cell_type": "markdown",
   "metadata": {},
   "source": [
    "Get Data for S&P500"
   ]
  },
  {
   "cell_type": "code",
   "execution_count": null,
   "metadata": {},
   "outputs": [],
   "source": [
    "url= f'https://www.alphavantage.co/query?function=TIME_SERIES_DAILY&symbol=SPY&outputsize=full&apikey={Alpha_API_Key}'"
   ]
  },
  {
   "cell_type": "code",
   "execution_count": null,
   "metadata": {},
   "outputs": [],
   "source": [
    "SPresponse= requests.get(url).json()"
   ]
  },
  {
   "cell_type": "code",
   "execution_count": null,
   "metadata": {},
   "outputs": [],
   "source": [
    "pprint(SPresponse)"
   ]
  },
  {
   "cell_type": "code",
   "execution_count": null,
   "metadata": {},
   "outputs": [],
   "source": [
    "SP500= pd.DataFrame.from_dict(SPresponse['Time Series (Daily)'], orient='index')"
   ]
  },
  {
   "cell_type": "code",
   "execution_count": null,
   "metadata": {},
   "outputs": [],
   "source": [
    "\n",
    "SP500=SP500.reset_index()\n",
    "SP500.rename(columns={'index': 'Date', '1. open':'SP_Open', '2. high':'SP_High', '3. low':'SP_Low', '4. close':'SP_Close', '5. volume':'SP_Volume'}, inplace=True)"
   ]
  },
  {
   "cell_type": "code",
   "execution_count": null,
   "metadata": {},
   "outputs": [],
   "source": [
    "SP500['Date']=pd.to_datetime(SP500['Date'])\n",
    "type(SP500['Date'][1])"
   ]
  },
  {
   "cell_type": "code",
   "execution_count": null,
   "metadata": {},
   "outputs": [],
   "source": [
    "# SP500.drop(axis=1, columns=['high', 'low'], inplace=True)"
   ]
  },
  {
   "cell_type": "code",
   "execution_count": null,
   "metadata": {},
   "outputs": [],
   "source": [
    "# Add Change column and Range\n",
    "\n",
    "SP500['SP500_Change']=SP500['SP_Close'].astype(float).diff(-1)\n",
    "\n",
    "SP500['SP_Range']=SP500['SP_High'].astype(float) - SP500['SP_Low'].astype(float)\n",
    "\n",
    "SP500.head(5)"
   ]
  },
  {
   "cell_type": "code",
   "execution_count": null,
   "metadata": {},
   "outputs": [],
   "source": [
    "print(SP500.dtypes)"
   ]
  },
  {
   "cell_type": "code",
   "execution_count": null,
   "metadata": {},
   "outputs": [],
   "source": [
    "SP500['SP_Open']=SP500['SP_Open'].astype(float)\n",
    "SP500['SP_Close']=SP500['SP_Close'].astype(float)\n",
    "SP500['SP_Volume']=SP500['SP_Volume'].astype(float)\n",
    "SP500['SP_High']=SP500['SP_High'].astype(float)\n",
    "SP500['SP_Low']=SP500['SP_Low'].astype(float)"
   ]
  },
  {
   "cell_type": "code",
   "execution_count": null,
   "metadata": {},
   "outputs": [],
   "source": [
    "print(SP500.dtypes)"
   ]
  },
  {
   "cell_type": "code",
   "execution_count": null,
   "metadata": {
    "scrolled": true
   },
   "outputs": [],
   "source": [
    "SP500.head(3)"
   ]
  },
  {
   "cell_type": "markdown",
   "metadata": {},
   "source": [
    "Get Data for Dow"
   ]
  },
  {
   "cell_type": "code",
   "execution_count": null,
   "metadata": {},
   "outputs": [],
   "source": [
    "url= f'https://www.alphavantage.co/query?function=TIME_SERIES_DAILY&symbol=DIA&outputsize=full&apikey={Alpha_API_Key}'"
   ]
  },
  {
   "cell_type": "code",
   "execution_count": null,
   "metadata": {},
   "outputs": [],
   "source": [
    "DOWresponse= requests.get(url).json()"
   ]
  },
  {
   "cell_type": "code",
   "execution_count": null,
   "metadata": {},
   "outputs": [],
   "source": [
    "pprint(DOWresponse)"
   ]
  },
  {
   "cell_type": "code",
   "execution_count": null,
   "metadata": {},
   "outputs": [],
   "source": [
    "DOW_DF=pd.DataFrame.from_dict(DOWresponse['Time Series (Daily)'], orient='index')"
   ]
  },
  {
   "cell_type": "code",
   "execution_count": null,
   "metadata": {},
   "outputs": [],
   "source": [
    "DOW_DF.head(2)"
   ]
  },
  {
   "cell_type": "code",
   "execution_count": null,
   "metadata": {},
   "outputs": [],
   "source": [
    "DOW_DF=DOW_DF.reset_index()\n",
    "DOW_DF.head(2)"
   ]
  },
  {
   "cell_type": "code",
   "execution_count": null,
   "metadata": {
    "scrolled": true
   },
   "outputs": [],
   "source": [
    "DOW_DF.rename(columns={'index': 'Date', '1. open': 'DOW_Open', '2. high': 'DOW_High', '3. low': 'DOW_Low', '4. close': 'DOW_Close', '5. volume': 'DOW_Volume'}, inplace=True)"
   ]
  },
  {
   "cell_type": "code",
   "execution_count": null,
   "metadata": {},
   "outputs": [],
   "source": [
    "print(DOW_DF.dtypes)"
   ]
  },
  {
   "cell_type": "code",
   "execution_count": null,
   "metadata": {},
   "outputs": [],
   "source": [
    "DOW_DF['Date']=pd.to_datetime(DOW_DF['Date'])\n",
    "DOW_DF['DOW_Open']=DOW_DF['DOW_Open'].astype(float)\n",
    "DOW_DF['DOW_Close']=DOW_DF['DOW_Close'].astype(float)\n",
    "DOW_DF['DOW_Volume']=DOW_DF['DOW_Volume'].astype(float)\n",
    "DOW_DF['DOW_High']=DOW_DF['DOW_High'].astype(float)\n",
    "DOW_DF['DOW_Low']=DOW_DF['DOW_Low'].astype(float)"
   ]
  },
  {
   "cell_type": "code",
   "execution_count": null,
   "metadata": {},
   "outputs": [],
   "source": [
    "DOW_DF['DOW_Change']=DOW_DF['DOW_Close'].diff(-1)\n",
    "\n",
    "DOW_DF['DOW_Range']=DOW_DF['DOW_High'] - DOW_DF['DOW_Low']"
   ]
  },
  {
   "cell_type": "code",
   "execution_count": null,
   "metadata": {
    "scrolled": false
   },
   "outputs": [],
   "source": [
    "DOW_DF.head(4)"
   ]
  },
  {
   "cell_type": "code",
   "execution_count": null,
   "metadata": {
    "scrolled": true
   },
   "outputs": [],
   "source": [
    "print(DOW_DF.dtypes)"
   ]
  },
  {
   "cell_type": "code",
   "execution_count": null,
   "metadata": {},
   "outputs": [],
   "source": [
    "# Merge all data to one DataFrame\n",
    "\n",
    "Data=pd.merge(Treasury_DF, Nasdaq, on='Date', how='inner')\n",
    "Data=pd.merge(Data, SP500, on='Date', how='inner')\n",
    "Data=pd.merge(Data, DOW_DF, on='Date', how='inner')"
   ]
  },
  {
   "cell_type": "code",
   "execution_count": null,
   "metadata": {},
   "outputs": [],
   "source": [
    "# Round to 2 decimal places\n",
    "\n",
    "Data=Data.round(2)\n",
    "\n",
    "Data.head(5)"
   ]
  },
  {
   "cell_type": "code",
   "execution_count": null,
   "metadata": {},
   "outputs": [],
   "source": [
    "# Drp last row with NaN valuse for change columns\n",
    "\n",
    "Data.drop(5541, axis=0, inplace=True)"
   ]
  },
  {
   "cell_type": "code",
   "execution_count": null,
   "metadata": {},
   "outputs": [],
   "source": [
    "print(Data.columns)"
   ]
  },
  {
   "cell_type": "code",
   "execution_count": null,
   "metadata": {},
   "outputs": [],
   "source": [
    "plt.figure(figsize=(35,15))\n",
    "plt.plot(Data['Date'], Data['10-1year']*300, label='10-1year')\n",
    "plt.plot(Data['Date'], Data['10yr-3mo']*400, label='10y-3m')\n",
    "# plt.plot(Data['Date'], Data['5-1year']*400, label='5-1yr')\n",
    "# plt.plot(Data['Date'], Data['30-20year']*400, label='30-20yr')\n",
    "\n",
    "plt.plot(Data['Date'], Data['Nas_Close']*5, label='Nas_Close')\n",
    "plt.plot(Data['Date'], Data['SP_Close']*5, label='SP5_Close')\n",
    "plt.plot(Data['Date'], Data['DOW_Close']*5, label='DOW_Close')\n",
    "\n",
    "         \n",
    "plt.legend()\n",
    "plt.plot(ylim=(-50,435))\n",
    "plt.axhline(y=0, color='r')\n",
    "\n",
    "plt.show()"
   ]
  },
  {
   "cell_type": "code",
   "execution_count": null,
   "metadata": {},
   "outputs": [],
   "source": [
    "# Export CSV for Tableau\n",
    "\n",
    "Data.to_csv('Treasury_Yield_CSV.csv')"
   ]
  },
  {
   "cell_type": "markdown",
   "metadata": {},
   "source": [
    "Make new columns for daily changes of yields and volume, Then look for Correlations.  Create categories for changes?"
   ]
  },
  {
   "cell_type": "code",
   "execution_count": null,
   "metadata": {},
   "outputs": [],
   "source": [
    "# Yield change from previous day.  Change (or direction of change) is probably more useful than yield itself\n",
    "\n",
    "Data['1mo_change']=Data['1 mo'].diff(-1)\n",
    "Data['2mo_change']=Data['2 mo'].diff(-1)\n",
    "Data['3mo_change']=Data['3 mo'].diff(-1)\n",
    "Data['6mo_change']=Data['6 mo'].diff(-1)\n",
    "Data['1yr_change']=Data['1 yr'].diff(-1)\n",
    "Data['2yr_change']=Data['2 yr'].diff(-1)\n",
    "Data['3yr_change']=Data['3 yr'].diff(-1)\n",
    "Data['5yr_change']=Data['5 yr'].diff(-1)\n",
    "Data['7yr_change']=Data['7 yr'].diff(-1)\n",
    "Data['10yr_change']=Data['10 yr'].diff(-1)\n",
    "Data['20yr_change']=Data['20 yr'].diff(-1)\n",
    "Data['30yr_change']=Data['30 yr'].diff(-1)"
   ]
  },
  {
   "cell_type": "code",
   "execution_count": null,
   "metadata": {},
   "outputs": [],
   "source": [
    "##  Change in yield spread is probably more useful than spread itself.  Is delta narrowing or widening?\n",
    "\n",
    "Data['2mo-1mo_change']=Data['2mo-1mo'].diff(-1)\n",
    "                          \n",
    "Data['3mo-2mo_change']=Data['3mo-2mo'].diff(-1)\n",
    "\n",
    "Data['3mo-1mo_change']=Data['3mo-1mo'].diff(-1)\n",
    "\n",
    "Data['6mo-3mo_change']=Data['6mo-3mo'].diff(-1)\n",
    "                          \n",
    "Data['6mo-2mo_change']=Data['6mo-2mo'].diff(-1)\n",
    "\n",
    "Data['6mo-1mo_change']=Data['6mo-1mo'].diff(-1)\n",
    "                          \n",
    "Data['1yr-6mo_change']=Data['1yr-6mo'].diff(-1)\n",
    "                         \n",
    "Data['1yr-3mo_change']=Data['1yr-3mo'].diff(-1)\n",
    "                          \n",
    "Data['1yr-2mo_change']=Data['1yr-2mo'].diff(-1)\n",
    "                          \n",
    "Data['1yr-1mo_change']=Data['1yr-1mo'].diff(-1)\n",
    "                          \n",
    "Data['2yr-1yr_change']=Data['2yr-1yr'].diff(-1)\n",
    "\n",
    "Data['2yr-6mo_change']=Data['2yr-6mo'].diff(-1)\n",
    "                          \n",
    "Data['2yr-1mo_change']=Data['2yr-1mo'].diff(-1)\n",
    "\n",
    "Data['3yr-1yr_change']=Data['3yr-1yr'].diff(-1)\n",
    "\n",
    "Data['5-1year_change']=Data['5-1year'].diff(-1)\n",
    "\n",
    "Data[\"10yr-3mo_change\"]=Data[\"10yr-3mo\"].diff(-1)\n",
    "\n",
    "Data[\"10-1year_change\"]=Data[\"10-1year\"].diff(-1)\n",
    "\n",
    "Data[\"10-2year_change\"]=Data[\"10-2year\"].diff(-1)\n",
    "\n",
    "Data[\"10-5year_change\"]=Data[\"10-5year\"].diff(-1)\n",
    "\n",
    "Data[\"20-1year_change\"]=Data[\"20-1year\"].diff(-1)\n",
    "\n",
    "Data[\"20-10year_change\"]=Data[\"20-10year\"].diff(-1)\n",
    "\n",
    "Data[\"30-20year_change\"]=Data[\"30-20year\"].diff(-1)\n"
   ]
  },
  {
   "cell_type": "code",
   "execution_count": null,
   "metadata": {},
   "outputs": [],
   "source": [
    "#  Make column for next day's closing prices and next day's change (Labels)\n",
    "\n",
    "Data['Nas_Tomorrow']=Data['Nas_Close'].shift(1)\n",
    "\n",
    "Data['Nas_Tomorrows_Change']=Data['Nas_Change'].shift(1)\n",
    "\n",
    "Data['SP500_Tomorrow']=Data['SP_Close'].shift(1)\n",
    "\n",
    "Data['SP500_Tomorrows_Change']=Data['SP500_Change'].shift(1)\n",
    "\n",
    "Data['DOW_Tomorrow']=Data['DOW_Close'].shift(1)\n",
    "\n",
    "Data['DOW_Tomorrows_Change']=Data['DOW_Change'].shift(1)"
   ]
  },
  {
   "cell_type": "code",
   "execution_count": null,
   "metadata": {},
   "outputs": [],
   "source": [
    "# Add columns for tomorrow's percentage change.  Trying to predict next day's change, not today's.\n",
    "\n",
    "Data['Nas_Tomorrow_%_change']=(Data['Nas_Tomorrows_Change']/Data['Nas_Tomorrow'].shift(-1))*100\n",
    "\n",
    "Data['SP_Tomorrow_%_change']=(Data['SP500_Tomorrows_Change']/Data['SP500_Tomorrow'].shift(-1))*100\n",
    "\n",
    "Data['DOW_Tomorrow_%_change']=(Data['DOW_Tomorrows_Change']/Data['DOW_Tomorrow'].shift(-1))*100"
   ]
  },
  {
   "cell_type": "code",
   "execution_count": null,
   "metadata": {},
   "outputs": [],
   "source": [
    "# Convert Yield Changes to percentages\n",
    "\n",
    "Data['2mo-1mo_%_change']=(Data['2mo-1mo_change']/Data['2mo-1mo'].shift(-1))*100\n",
    "                          \n",
    "Data['3mo-2mo_%_change']=(Data['3mo-2mo_change']/Data['3mo-2mo'].shift(-1))*100\n",
    "\n",
    "Data['3mo-1mo_%_change']=Data['3mo-1mo_change']/Data['3mo-1mo'].shift(-1)*100\n",
    "\n",
    "Data['6mo-3mo_%_change']=Data['6mo-3mo_change']/Data['6mo-3mo'].shift(-1)*100\n",
    "                          \n",
    "Data['6mo-2mo_%_change']=Data['6mo-2mo_change']/Data['6mo-2mo'].shift(-1)*100\n",
    "\n",
    "Data['6mo-1mo_%_change']=Data['6mo-1mo_change']/Data['6mo-1mo'].shift(-1)*100\n",
    "                          \n",
    "Data['1yr-6mo_%_change']=Data['1yr-6mo_change']/Data['1yr-6mo'].shift(-1)*100\n",
    "                         \n",
    "Data['1yr-3mo_%_change']=Data['1yr-3mo_change']/Data['1yr-3mo'].shift(-1)*100\n",
    "                          \n",
    "Data['1yr-2mo_%_change']=Data['1yr-2mo_change']/Data['1yr-2mo'].shift(-1)*100\n",
    "                          \n",
    "Data['1yr-1mo_%_change']=Data['1yr-1mo_change']/Data['1yr-1mo'].shift(-1)*100\n",
    "                          \n",
    "Data['2yr-1yr_%_change']=Data['2yr-1yr_change']/Data['2yr-1yr'].shift(-1)*100\n",
    "\n",
    "Data['2yr-6mo_%_change']=Data['2yr-6mo_change']/Data['2yr-6mo'].shift(-1)*100\n",
    "                          \n",
    "Data['2yr-1mo_%_change']=Data['2yr-1mo_change']/Data['2yr-1mo'].shift(-1)*100\n",
    "\n",
    "Data['3yr-1yr_%_change']=Data['3yr-1yr_change']/Data['3yr-1yr'].shift(-1)*100\n",
    "\n",
    "Data['5-1year_%_change']=Data['5-1year_change']/Data['5-1year'].shift(-1)*100\n",
    "\n",
    "Data[\"10yr-3mo_%_change\"]=Data[\"10yr-3mo_change\"]/Data['10yr-3mo'].shift(-1)*100\n",
    "\n",
    "Data[\"10-1year_%_change\"]=Data[\"10-1year_change\"]/Data['10-1year'].shift(-1)*100\n",
    "\n",
    "Data[\"10-2year_%_change\"]=Data[\"10-2year_change\"]/Data['10-2year'].shift(-1)*100\n",
    "\n",
    "Data[\"10-5year_%_change\"]=Data[\"10-5year_change\"]/Data['10-5year'].shift(-1)*100\n",
    "\n",
    "Data[\"20-1year_%_change\"]=Data[\"20-1year_change\"]/Data['20-1year'].shift(-1)*100\n",
    "\n",
    "Data[\"20-10year_%_change\"]=Data[\"20-10year_change\"]/Data['20-10year'].shift(-1)*100\n",
    "\n",
    "Data[\"30-20year_%_change\"]=Data[\"30-20year_change\"]/Data['30-20year'].shift(-1)*100\n"
   ]
  },
  {
   "cell_type": "code",
   "execution_count": null,
   "metadata": {},
   "outputs": [],
   "source": [
    "# Index Positive or negative changes.  Simplify to direction of movement rather than values.\n",
    "\n",
    "conditions = [\n",
    "    (Data['Nas_Tomorrows_Change']>0),\n",
    "    (Data['Nas_Tomorrows_Change']<0),\n",
    "    (Data['Nas_Tomorrows_Change']==0)\n",
    "]\n",
    "\n",
    "values=[1, -1, 0]\n",
    "\n",
    "Data['Nas_Tomorrow_+-']=np.select(conditions, values)"
   ]
  },
  {
   "cell_type": "code",
   "execution_count": null,
   "metadata": {},
   "outputs": [],
   "source": [
    "#  Column for positive or negative yield spread movement\n",
    "\n",
    "Tconditions = [\n",
    "    (Data['3mo-2mo_change']>0),\n",
    "    (Data['3mo-2mo_change']<0),\n",
    "    (Data['3mo-2mo_change']==0)\n",
    "]\n",
    "\n",
    "Tvalues=[1, -1, 0]\n",
    "\n",
    "Data['3mo-2mo+-']=np.select(Tconditions, Tvalues)"
   ]
  },
  {
   "cell_type": "code",
   "execution_count": null,
   "metadata": {},
   "outputs": [],
   "source": [
    "# Column for next week movement up or down.  5 market days ahead"
   ]
  },
  {
   "cell_type": "code",
   "execution_count": null,
   "metadata": {},
   "outputs": [],
   "source": [
    "pd.set_option('display.max_columns', None)\n",
    "\n",
    "Data=Data.round(2)\n",
    "               \n",
    "Data.head(6)"
   ]
  },
  {
   "cell_type": "code",
   "execution_count": null,
   "metadata": {},
   "outputs": [],
   "source": [
    "corr_matrix= Data.corr()"
   ]
  },
  {
   "cell_type": "code",
   "execution_count": null,
   "metadata": {},
   "outputs": [],
   "source": [
    "pd.set_option('display.max_rows', None)\n",
    "\n",
    "corr_matrix['Nas_Tomorrow_+-'].sort_values(ascending=False).round(4)"
   ]
  },
  {
   "cell_type": "code",
   "execution_count": null,
   "metadata": {},
   "outputs": [],
   "source": []
  },
  {
   "cell_type": "code",
   "execution_count": null,
   "metadata": {},
   "outputs": [],
   "source": []
  },
  {
   "cell_type": "markdown",
   "metadata": {},
   "source": [
    "Use yield curve and ML to predict next day market change and next week average market change(Regression).  Maybe as simple as categorical model. Will market go up or down.\n"
   ]
  }
 ],
 "metadata": {
  "kernelspec": {
   "display_name": "Python 3",
   "language": "python",
   "name": "python3"
  },
  "language_info": {
   "codemirror_mode": {
    "name": "ipython",
    "version": 3
   },
   "file_extension": ".py",
   "mimetype": "text/x-python",
   "name": "python",
   "nbconvert_exporter": "python",
   "pygments_lexer": "ipython3",
   "version": "3.7.6"
  }
 },
 "nbformat": 4,
 "nbformat_minor": 4
}
